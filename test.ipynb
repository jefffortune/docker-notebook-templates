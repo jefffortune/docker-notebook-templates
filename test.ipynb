{
 "cells": [
  {
   "cell_type": "code",
   "execution_count": 1,
   "metadata": {},
   "outputs": [],
   "source": [
    "import os\n",
    "import socket"
   ]
  },
  {
   "cell_type": "code",
   "execution_count": 3,
   "metadata": {},
   "outputs": [
    {
     "data": {
      "text/plain": [
       "'/app'"
      ]
     },
     "execution_count": 3,
     "metadata": {},
     "output_type": "execute_result"
    }
   ],
   "source": [
    "os.getcwd()"
   ]
  },
  {
   "cell_type": "code",
   "execution_count": 4,
   "metadata": {},
   "outputs": [
    {
     "data": {
      "text/plain": [
       "'192.168.160.2'"
      ]
     },
     "execution_count": 4,
     "metadata": {},
     "output_type": "execute_result"
    }
   ],
   "source": [
    "socket.gethostbyname(socket.gethostname())\n"
   ]
  },
  {
   "cell_type": "code",
   "execution_count": 6,
   "metadata": {},
   "outputs": [
    {
     "data": {
      "text/plain": [
       "environ{'NV_LIBCUBLAS_VERSION': '12.2.1.16-1',\n",
       "        'NVIDIA_VISIBLE_DEVICES': 'all',\n",
       "        'NV_NVML_DEV_VERSION': '12.2.81-1',\n",
       "        'HOSTNAME': '531578a1c9ff',\n",
       "        'NVIDIA_REQUIRE_CUDA': 'cuda>=12.2 brand=tesla,driver>=450,driver<451 brand=tesla,driver>=470,driver<471 brand=unknown,driver>=470,driver<471 brand=nvidia,driver>=470,driver<471 brand=nvidiartx,driver>=470,driver<471 brand=geforce,driver>=470,driver<471 brand=geforcertx,driver>=470,driver<471 brand=quadro,driver>=470,driver<471 brand=quadrortx,driver>=470,driver<471 brand=titan,driver>=470,driver<471 brand=titanrtx,driver>=470,driver<471 brand=tesla,driver>=525,driver<526 brand=unknown,driver>=525,driver<526 brand=nvidia,driver>=525,driver<526 brand=nvidiartx,driver>=525,driver<526 brand=geforce,driver>=525,driver<526 brand=geforcertx,driver>=525,driver<526 brand=quadro,driver>=525,driver<526 brand=quadrortx,driver>=525,driver<526 brand=titan,driver>=525,driver<526 brand=titanrtx,driver>=525,driver<526',\n",
       "        'NV_LIBCUBLAS_DEV_PACKAGE': 'libcublas-dev-12-2=12.2.1.16-1',\n",
       "        'NV_NVTX_VERSION': '12.2.53-1',\n",
       "        'NV_CUDA_CUDART_DEV_VERSION': '12.2.53-1',\n",
       "        'NV_LIBCUSPARSE_VERSION': '12.1.1.53-1',\n",
       "        'NV_LIBNPP_VERSION': '12.1.1.14-1',\n",
       "        'PWD': '/app',\n",
       "        'NVIDIA_DRIVER_CAPABILITIES': 'compute,utility',\n",
       "        'NV_NVPROF_DEV_PACKAGE': 'cuda-nvprof-12-2=12.2.60-1',\n",
       "        'NV_LIBNPP_PACKAGE': 'libnpp-12-2=12.1.1.14-1',\n",
       "        'NV_LIBCUBLAS_DEV_VERSION': '12.2.1.16-1',\n",
       "        'NVIDIA_PRODUCT_NAME': 'CUDA',\n",
       "        'NV_LIBCUBLAS_DEV_PACKAGE_NAME': 'libcublas-dev-12-2',\n",
       "        'NV_CUDA_CUDART_VERSION': '12.2.53-1',\n",
       "        'HOME': '/root',\n",
       "        'CUDA_VERSION': '12.2.0',\n",
       "        'NV_LIBCUBLAS_PACKAGE': 'libcublas-12-2=12.2.1.16-1',\n",
       "        'NV_CUDA_NSIGHT_COMPUTE_DEV_PACKAGE': 'cuda-nsight-compute-12-2=12.2.0-1',\n",
       "        'NV_LIBNPP_DEV_PACKAGE': 'libnpp-dev-12-2=12.1.1.14-1',\n",
       "        'NV_LIBCUBLAS_PACKAGE_NAME': 'libcublas-12-2',\n",
       "        'NV_LIBNPP_DEV_VERSION': '12.1.1.14-1',\n",
       "        'NV_LIBCUSPARSE_DEV_VERSION': '12.1.1.53-1',\n",
       "        'LIBRARY_PATH': '/usr/local/cuda/lib64/stubs',\n",
       "        'SHLVL': '0',\n",
       "        'NV_CUDA_LIB_VERSION': '12.2.0-1',\n",
       "        'NVARCH': 'x86_64',\n",
       "        'NV_CUDA_COMPAT_PACKAGE': 'cuda-compat-12-2',\n",
       "        'LD_LIBRARY_PATH': '/usr/local/nvidia/lib:/usr/local/nvidia/lib64',\n",
       "        'NV_CUDA_NSIGHT_COMPUTE_VERSION': '12.2.0-1',\n",
       "        'NV_NVPROF_VERSION': '12.2.60-1',\n",
       "        'CUDA_HOME': '/usr/local/cuda',\n",
       "        'PATH': '/usr/local/nvidia/bin:/usr/local/cuda/bin:/usr/local/sbin:/usr/local/bin:/usr/sbin:/usr/bin:/sbin:/bin',\n",
       "        'DEBIAN_FRONTEND': 'noninteractive',\n",
       "        'LC_CTYPE': 'C.UTF-8',\n",
       "        'PYDEVD_USE_FRAME_EVAL': 'NO',\n",
       "        'JPY_SESSION_NAME': '/app/test-d8b7d51b-a129-4f2b-a337-fb3fd4c2ebb9.ipynb',\n",
       "        'JPY_PARENT_PID': '1',\n",
       "        'TERM': 'xterm-color',\n",
       "        'CLICOLOR': '1',\n",
       "        'FORCE_COLOR': '1',\n",
       "        'CLICOLOR_FORCE': '1',\n",
       "        'PAGER': 'cat',\n",
       "        'GIT_PAGER': 'cat',\n",
       "        'MPLBACKEND': 'module://matplotlib_inline.backend_inline'}"
      ]
     },
     "execution_count": 6,
     "metadata": {},
     "output_type": "execute_result"
    }
   ],
   "source": [
    "os.environ\n"
   ]
  }
 ],
 "metadata": {
  "kernelspec": {
   "display_name": "Python 3 (ipykernel)",
   "language": "python",
   "name": "python3"
  },
  "language_info": {
   "codemirror_mode": {
    "name": "ipython",
    "version": 3
   },
   "file_extension": ".py",
   "mimetype": "text/x-python",
   "name": "python",
   "nbconvert_exporter": "python",
   "pygments_lexer": "ipython3",
   "version": "3.10.12"
  },
  "orig_nbformat": 4
 },
 "nbformat": 4,
 "nbformat_minor": 2
}
